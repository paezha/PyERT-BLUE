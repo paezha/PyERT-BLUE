{
  "cells": [
    {
      "cell_type": "raw",
      "metadata": {},
      "source": [
        "---\n",
        "title: Shortest Paths Example\n",
        "author: AP\n",
        "format: html\n",
        "execute:\n",
        "  cache: true\n",
        "---"
      ],
      "id": "4282af28"
    },
    {
      "cell_type": "markdown",
      "metadata": {},
      "source": [
        "## Setup\n",
        "\n",
        "Import the modules used in this notebook."
      ],
      "id": "de7e974c"
    },
    {
      "cell_type": "code",
      "metadata": {},
      "source": [
        "import geopandas as gpd\n",
        "import igraph as ig\n",
        "import itertools\n",
        "#import momepy\n",
        "import matplotlib.pyplot as plt\n",
        "#import networkx as nx\n",
        "import numpy as np\n",
        "import osmnx as ox\n",
        "import pandas as pd\n",
        "import pyrosm\n",
        "import random\n",
        "from scipy.spatial import cKDTree\n",
        "import timeit"
      ],
      "id": "c5a436ec",
      "execution_count": null,
      "outputs": []
    },
    {
      "cell_type": "markdown",
      "metadata": {},
      "source": [
        "## Data inputs\n",
        "\n",
        "### Zones\n",
        "\n",
        "::: {.callout-note}\n",
        "The zoning system in this notebook is used to illustrate how to \"snap\" a point that is _not_ on the network to the network. This might be important for matching the start/end of episodes to elements of the network, or more generally for matching points in a GPS trace to the network. Besides that, the zoning system may or may not be relevant.\n",
        ":::\n",
        "\n",
        "Read zonal system:"
      ],
      "id": "f9befefd"
    },
    {
      "cell_type": "code",
      "metadata": {},
      "source": [
        "zones = gpd.read_file(\"data/sample-zones/tts06_83_region.shp\")"
      ],
      "id": "650b8bff",
      "execution_count": null,
      "outputs": []
    },
    {
      "cell_type": "markdown",
      "metadata": {},
      "source": [
        "### Network\n",
        "\n",
        "File path for an OSM dataset of Hamilton that I obtained the OSM pbf file from [BBBike](https://extract.bbbike.org/) on November 22, 2022:"
      ],
      "id": "5422a282"
    },
    {
      "cell_type": "code",
      "metadata": {},
      "source": [
        "fp = \"data/sample-osm/planet_-80.265,43.283_-79.276,43.734.osm.pbf\""
      ],
      "id": "a83eaee8",
      "execution_count": null,
      "outputs": []
    },
    {
      "cell_type": "markdown",
      "metadata": {},
      "source": [
        "Initialize the osm object using a bounding box corresponding to the Hamilton CMA:"
      ],
      "id": "d8e1ea3b"
    },
    {
      "cell_type": "code",
      "metadata": {},
      "source": [
        "osm = pyrosm.OSM(fp)"
      ],
      "id": "d6218de9",
      "execution_count": null,
      "outputs": []
    },
    {
      "cell_type": "markdown",
      "metadata": {},
      "source": [
        "Extract the network from the OSM object. It is possible to extract \"driving\", \"all\", \"walking\", etc."
      ],
      "id": "088e7777"
    },
    {
      "cell_type": "code",
      "metadata": {},
      "source": [
        "nodes, edges = osm.get_network(network_type = \"driving\", nodes = True)"
      ],
      "id": "a5df29eb",
      "execution_count": null,
      "outputs": []
    },
    {
      "cell_type": "markdown",
      "metadata": {},
      "source": [
        "Check the coordinate reference system of the objects (crs):"
      ],
      "id": "da0ad98f"
    },
    {
      "cell_type": "code",
      "metadata": {},
      "source": [
        "nodes.crs\n",
        "edges.crs\n",
        "zones.crs"
      ],
      "id": "3dbd806c",
      "execution_count": null,
      "outputs": []
    },
    {
      "cell_type": "markdown",
      "metadata": {},
      "source": [
        "The elements of the network (edges and nodes) are in EPSG 4019 (lat-long) and need to be projected. The zones are in UTM Zone 17N (EPSG: 26917):"
      ],
      "id": "b2a1b4d6"
    },
    {
      "cell_type": "code",
      "metadata": {},
      "source": [
        "edges = edges.to_crs(\"EPSG:26917\")\n",
        "nodes = nodes.to_crs(\"EPSG:26917\")"
      ],
      "id": "8abc4699",
      "execution_count": null,
      "outputs": []
    },
    {
      "cell_type": "markdown",
      "metadata": {},
      "source": [
        "Plot the network and zoning system:"
      ],
      "id": "b5fabce1"
    },
    {
      "cell_type": "code",
      "metadata": {},
      "source": [
        "fig, ax = plt.subplots()\n",
        "ax.set_aspect('equal')\n",
        "# Edges\n",
        "edges.plot(ax=ax, color = \"red\")\n",
        "# Zones\n",
        "#zones.plot(ax=ax, color = \"white\", edgecolor = 'black', linestyle = \"solid\")\n",
        "# Show plot\n",
        "plt.show()"
      ],
      "id": "9cae73e4",
      "execution_count": null,
      "outputs": []
    },
    {
      "cell_type": "markdown",
      "metadata": {},
      "source": [
        "Find the bounding box for the sample network:"
      ],
      "id": "83f18f1a"
    },
    {
      "cell_type": "code",
      "metadata": {},
      "source": [
        "bbox_edges = edges.unary_union.bounds"
      ],
      "id": "9c314945",
      "execution_count": null,
      "outputs": []
    },
    {
      "cell_type": "markdown",
      "metadata": {},
      "source": [
        "Select zones using a smaller version of the bounding box so that the network reasonably covers the zones:"
      ],
      "id": "f908ab5c"
    },
    {
      "cell_type": "code",
      "metadata": {},
      "source": [
        "zones = zones.cx[(bbox_edges[0] + 6000):(bbox_edges[2] - 6000), (bbox_edges[1] + 6000):(bbox_edges[3] - 6000)]"
      ],
      "id": "a208f378",
      "execution_count": null,
      "outputs": []
    },
    {
      "cell_type": "markdown",
      "metadata": {},
      "source": [
        "Plot again:"
      ],
      "id": "55ea9e1e"
    },
    {
      "cell_type": "code",
      "metadata": {},
      "source": [
        "fig, ax = plt.subplots()\n",
        "ax.set_aspect('equal')\n",
        "# Edges\n",
        "edges.plot(ax=ax, color = \"red\")\n",
        "# Zones\n",
        "zones.plot(ax=ax, color = \"white\", edgecolor = 'black', linestyle = \"solid\")\n",
        "# Show plot\n",
        "plt.show()"
      ],
      "id": "ca6ce035",
      "execution_count": null,
      "outputs": []
    },
    {
      "cell_type": "markdown",
      "metadata": {},
      "source": [
        "### Data Preparation\n",
        "\n",
        "Check the contents of the tables with the nodes and edges. In particular, we wish to see if there are columns with the speed and/or class of edge to calculate travel times on the network.\n",
        "\n",
        "We begin by checking the types of the columns:"
      ],
      "id": "fca0d08a"
    },
    {
      "cell_type": "code",
      "metadata": {},
      "source": [
        "edges.dtypes"
      ],
      "id": "bd8565c6",
      "execution_count": null,
      "outputs": []
    },
    {
      "cell_type": "markdown",
      "metadata": {},
      "source": [
        "What is in the column \"maxspeed\"?"
      ],
      "id": "0fddf0d2"
    },
    {
      "cell_type": "code",
      "metadata": {},
      "source": [
        "edges[\"maxspeed\"].unique()"
      ],
      "id": "bdca8f44",
      "execution_count": null,
      "outputs": []
    },
    {
      "cell_type": "markdown",
      "metadata": {},
      "source": [
        "\"None\" seems to indicate missing values."
      ],
      "id": "5f966624"
    },
    {
      "cell_type": "code",
      "metadata": {},
      "source": [
        "edges.loc[edges['maxspeed'] == \"None\"][\"highway\"].head(30)"
      ],
      "id": "8ac6ede8",
      "execution_count": null,
      "outputs": []
    },
    {
      "cell_type": "markdown",
      "metadata": {},
      "source": [
        "It seems that \"None\"'s are missing values, so we probably cannot use this column for the speed. Instead, check the types of edges (column \"highway\"):"
      ],
      "id": "fde91254"
    },
    {
      "cell_type": "code",
      "metadata": {},
      "source": [
        "edges[\"highway\"].unique()"
      ],
      "id": "2b3b8a15",
      "execution_count": null,
      "outputs": []
    },
    {
      "cell_type": "markdown",
      "metadata": {},
      "source": [
        "See @tbl-osm-speed-values. \n",
        "\n",
        "Consult the [OSM wiki](https://wiki.openstreetmap.org/wiki/Key:highway) for the definitions of OSM values for the key \"highway\", and [Toronto's Road Classification](https://www.toronto.ca/wp-content/uploads/2018/01/950a-Road-Classification_Summary-Document.pdf) for likely equivalents in Ontario.\n",
        "\n",
        "Set the speeds of the following road types to a very small number:\n",
        "'services', 'pedestrian', 'turning_loop', 'track', 'rest_area', 'path', 'raceway', 'footway', 'cycleway', 'closed'.\n",
        "\n",
        "\n",
        "| OSM value                                                | Equivalent         | Speed      |\n",
        "|:---------------------------------------------------------|--------------------|------------|\n",
        "| 'motorway', 'primary', 'secondary'                       | Expressway         | 100 km/h   |\n",
        "| 'motorway_link', 'primary_link', 'secondary_link'        | Expressway         | 80 km/h    |\n",
        "| 'tertiary', 'trunk'                                      | Major Arterials    | 60 km/h    |\n",
        "| 'tertiary_link', 'trunk_link'                            | Major Arterials    | 50 km/h    |\n",
        "| 'residential', 'living_street', 'unclassified', 'road'   | Local              | 40 km/h    |\n",
        "\n",
        ": OSM highway values and proposed equivalent speeds {#tbl-osm-speed-values}\n",
        "\n",
        "Drop edges that are not part of the regular road network:"
      ],
      "id": "4b18a236"
    },
    {
      "cell_type": "code",
      "metadata": {},
      "source": [
        "edges = edges.drop(edges[(edges.highway == \"service\") | (edges.highway == \"services\") | (edges.highway == \"pedestrian\") | (edges.highway == \"path\") | (edges.highway == \"footway\") | (edges.highway == \"cycleway\") | (edges.highway == \"raceway\") | (edges.highway == \"track\") | (edges.highway == \"turning_loop\") | (edges.highway == \"rest_area\") | (edges.highway == \"closed\") | (edges.highway == \"bus_stop\") | (edges.highway == \"steps\")].index)"
      ],
      "id": "83ba84b2",
      "execution_count": null,
      "outputs": []
    },
    {
      "cell_type": "markdown",
      "metadata": {},
      "source": [
        "Initialize the speeds:"
      ],
      "id": "0eecbe00"
    },
    {
      "cell_type": "code",
      "metadata": {},
      "source": [
        "edges = edges.assign(speed = 0.0)"
      ],
      "id": "d2b67601",
      "execution_count": null,
      "outputs": []
    },
    {
      "cell_type": "markdown",
      "metadata": {},
      "source": [
        "Assign speeds depending on the highway value of the link:"
      ],
      "id": "40916d17"
    },
    {
      "cell_type": "code",
      "metadata": {},
      "source": [
        "edges.loc[(edges[\"highway\"] == \"motorway\") | (edges['highway'] == \"primary\") | (edges['highway'] == \"secondary\"), \"speed\"] = 100\n",
        "edges.loc[(edges[\"highway\"] == \"motorway_link\") | (edges['highway'] == \"primary_link\") | (edges['highway'] == \"secondary_link\"), \"speed\"] = 80\n",
        "edges.loc[(edges[\"highway\"] == \"tertiary\") | (edges['highway'] == \"trunk\"), \"speed\"] = 60\n",
        "edges.loc[(edges[\"highway\"] == \"tertiary_link\") | (edges['highway'] == \"trunk_link\"), \"speed\"] = 50\n",
        "edges.loc[(edges[\"highway\"] == \"residential\") | (edges['highway'] == \"living_street\") | (edges['highway'] == \"unclassified\")| (edges['highway'] == \"road\"), \"speed\"] = 40"
      ],
      "id": "9badcdfd",
      "execution_count": null,
      "outputs": []
    },
    {
      "cell_type": "markdown",
      "metadata": {},
      "source": [
        "Summary of speeds (there should not be any zeros):"
      ],
      "id": "be494427"
    },
    {
      "cell_type": "code",
      "metadata": {},
      "source": [
        "edges[\"speed\"].describe()"
      ],
      "id": "e213853f",
      "execution_count": null,
      "outputs": []
    },
    {
      "cell_type": "markdown",
      "metadata": {},
      "source": [
        "Calculate the free flow travel time in **minutes** from the length of the link and the speed. The length of the link is in m and the speed is in km/h:"
      ],
      "id": "13b06e8e"
    },
    {
      "cell_type": "code",
      "metadata": {},
      "source": [
        "edges[\"weight\"] = 60 * (edges.length/1000)/edges.speed"
      ],
      "id": "fda6eeff",
      "execution_count": null,
      "outputs": []
    },
    {
      "cell_type": "markdown",
      "metadata": {},
      "source": [
        "Obtain a summary to make sure that there are no funny values for the weights (like inf or NAN):"
      ],
      "id": "2442bd83"
    },
    {
      "cell_type": "code",
      "metadata": {},
      "source": [
        "edges.weight.describe()"
      ],
      "id": "dbc599da",
      "execution_count": null,
      "outputs": []
    },
    {
      "cell_type": "markdown",
      "metadata": {},
      "source": [
        "Convert the GeoDataFrames with the elements of the network to a {igraph} object:"
      ],
      "id": "0a25ef26"
    },
    {
      "cell_type": "code",
      "metadata": {},
      "source": [
        "graph = osm.to_graph(nodes, edges, graph_type=\"igraph\")"
      ],
      "id": "ca2f3b7f",
      "execution_count": null,
      "outputs": []
    },
    {
      "cell_type": "markdown",
      "metadata": {},
      "source": [
        "**IMPORTANT:** Some nodes will vanish after dropping some edges. Find which nodes are vertices in the graph:"
      ],
      "id": "682d73b5"
    },
    {
      "cell_type": "code",
      "metadata": {},
      "source": [
        "node_vertices = graph.vs[\"id\"]\n",
        "node_vertices = nodes[nodes.id.isin(node_vertices)].reset_index()"
      ],
      "id": "c6f0052d",
      "execution_count": null,
      "outputs": []
    },
    {
      "cell_type": "markdown",
      "metadata": {},
      "source": [
        "**IMPORTANT:** The ids of the edges are not unique, but correspond instead to a group of segments that together make a street or a road; see:"
      ],
      "id": "095c6d68"
    },
    {
      "cell_type": "code",
      "metadata": {},
      "source": [
        "edges.id"
      ],
      "id": "0a766163",
      "execution_count": null,
      "outputs": []
    },
    {
      "cell_type": "markdown",
      "metadata": {},
      "source": [
        "These ids cannot be used to uniquely identify individual segments. The segments can be identified uniquely with their origin node and destination node (whose ids are unique).\n",
        "\n",
        "Once we converted the GeoDataFrame to a graph we can retrieve the origin and destination nodes of the segments along with their index in the graph.\n",
        "\n",
        "## Find nodes in network that are closest to zone centroids\n",
        "\n",
        "Retrieve the zone centroids:"
      ],
      "id": "49b9a262"
    },
    {
      "cell_type": "code",
      "metadata": {},
      "source": [
        "zone_centroids = zones.centroid\n",
        "zone_centroids = gpd.GeoDataFrame(zones.GTA06, geometry = zone_centroids)"
      ],
      "id": "61fe0fb4",
      "execution_count": null,
      "outputs": []
    },
    {
      "cell_type": "markdown",
      "metadata": {},
      "source": [
        "Plot the nodes (black) and the zonal centroids (red):"
      ],
      "id": "3ef034e0"
    },
    {
      "cell_type": "code",
      "metadata": {},
      "source": [
        "fig, ax = plt.subplots()\n",
        "ax.set_aspect(\"equal\")\n",
        "\n",
        "# network nodes\n",
        "nodes.plot(ax = ax, color = \"black\", markersize = 0.1)\n",
        "\n",
        "# Centroids\n",
        "zone_centroids.plot(ax = ax, color = \"red\", markersize = 5)\n",
        "\n",
        "# Show plot\n",
        "plt.show();"
      ],
      "id": "ad593d2c",
      "execution_count": null,
      "outputs": []
    },
    {
      "cell_type": "markdown",
      "metadata": {},
      "source": [
        "Define a function for finding the nearest points between two point geometries:"
      ],
      "id": "f51b2100"
    },
    {
      "cell_type": "code",
      "metadata": {},
      "source": [
        "def ckdnearest(gdA, gdB):\n",
        "    nA = np.array(list(gdA.geometry.apply(lambda x: (x.x, x.y))))\n",
        "    nB = np.array(list(gdB.geometry.apply(lambda x: (x.x, x.y))))\n",
        "    btree = cKDTree(nB)\n",
        "    dist, idx = btree.query(nA, k=1)\n",
        "    gdf = pd.concat(\n",
        "        [gdA.reset_index(drop=True), gdB.loc[idx, gdB.columns != 'geometry'].reset_index(drop=True),\n",
        "         pd.Series(dist, name='dist')], axis=1)\n",
        "    return gdf"
      ],
      "id": "521bc58f",
      "execution_count": null,
      "outputs": []
    },
    {
      "cell_type": "markdown",
      "metadata": {},
      "source": [
        "Find network nodes closest to zone centroids:"
      ],
      "id": "a49082f3"
    },
    {
      "cell_type": "code",
      "metadata": {},
      "source": [
        "centroid_nodes = ckdnearest(zone_centroids, node_vertices)\n",
        "centroid_nodes"
      ],
      "id": "bb881d24",
      "execution_count": null,
      "outputs": []
    },
    {
      "cell_type": "markdown",
      "metadata": {},
      "source": [
        "Verify that the ids of the centroid nodes appear in the nodes GeoDataFrame:"
      ],
      "id": "4e4a47c1"
    },
    {
      "cell_type": "code",
      "metadata": {},
      "source": [
        "ids1 = sorted(centroid_nodes.id)\n",
        "ids2 = sorted(nodes.id[nodes.id.isin(centroid_nodes.id)])"
      ],
      "id": "7de8fd29",
      "execution_count": null,
      "outputs": []
    },
    {
      "cell_type": "markdown",
      "metadata": {},
      "source": [
        "Note that there might be some duplicated centroid nodes; this can happen when two or more zonal centroids are closest to the same node:"
      ],
      "id": "7b7acb0d"
    },
    {
      "cell_type": "code",
      "metadata": {},
      "source": [
        "len(centroid_nodes.id)\n",
        "len(centroid_nodes.id.unique())"
      ],
      "id": "ee04d065",
      "execution_count": null,
      "outputs": []
    },
    {
      "cell_type": "markdown",
      "metadata": {},
      "source": [
        "## Shortest paths calculations\n",
        "\n",
        "Vertex sequence with centroid nodes (vertices):"
      ],
      "id": "28f379fc"
    },
    {
      "cell_type": "code",
      "metadata": {},
      "source": [
        "od_vertices = graph.vs.select(id_in=list(centroid_nodes.id.unique()))"
      ],
      "id": "8cd68ade",
      "execution_count": null,
      "outputs": []
    },
    {
      "cell_type": "markdown",
      "metadata": {},
      "source": [
        "Verify that the number of od_vertices is the same as the number of unique nodes:"
      ],
      "id": "91dd8936"
    },
    {
      "cell_type": "code",
      "metadata": {},
      "source": [
        "ids3 = od_vertices[\"id\"]\n",
        "len(ids3)"
      ],
      "id": "d7bc20b2",
      "execution_count": null,
      "outputs": []
    },
    {
      "cell_type": "markdown",
      "metadata": {},
      "source": [
        "Plot the nodes:"
      ],
      "id": "0ff9a40d"
    },
    {
      "cell_type": "code",
      "metadata": {},
      "source": [
        "fig, ax = plt.subplots()\n",
        "ax.set_aspect('equal')\n",
        "# Network\n",
        "edges.plot(ax = ax, color = \"lightgray\", linewidth = 1)\n",
        "# Zones\n",
        "zones.plot(ax=ax, color = \"white\", edgecolor = 'black', linestyle = \"solid\")\n",
        "# Zone centroids\n",
        "zone_centroids.plot(ax=ax, marker = \"o\", color = \"black\", markersize = 8)\n",
        "# Network nodes in graph\n",
        "nodes[nodes.id.isin(ids3)].plot(ax=ax, marker = \"*\", color = \"red\", markersize = 4)# Show plot\n",
        "\n",
        "plt.show()"
      ],
      "id": "49922daf",
      "execution_count": null,
      "outputs": []
    },
    {
      "cell_type": "markdown",
      "metadata": {},
      "source": [
        "Shortest path (choose a few origins and destinations at random):"
      ],
      "id": "2cb5e76c"
    },
    {
      "cell_type": "code",
      "metadata": {},
      "source": [
        "origins = graph.vs.select(id_in=random.choices(ids3, k = 4))\n",
        "destinations = graph.vs.select(id_in=random.choices(ids3, k = 4))\n",
        "\n",
        "start_time = timeit.default_timer()\n",
        "\n",
        "shortest_paths = []\n",
        "for i in range(len(origins)):\n",
        "    for j in range(len(destinations)):\n",
        "      # code you want to evaluate\n",
        "      next_ = graph.get_shortest_paths(origins[i], to=destinations[j], weights=graph.es[\"weight\"], output=\"epath\")\n",
        "      shortest_paths.append(next_)\n",
        "\n",
        "elapsed = timeit.default_timer() - start_time\n",
        "elapsed"
      ],
      "id": "106b1a6c",
      "execution_count": null,
      "outputs": []
    },
    {
      "cell_type": "markdown",
      "metadata": {},
      "source": [
        "## Origin-destination table\n",
        "\n",
        "Define a function to expand a grid to create a table with all pairs of origin-destinations for which we calculated the shortest paths above:"
      ],
      "id": "194a1d7d"
    },
    {
      "cell_type": "code",
      "metadata": {},
      "source": [
        "def expand_grid(data_dict):\n",
        "    rows = itertools.product(*data_dict.values())\n",
        "    return pd.DataFrame.from_records(rows, columns=data_dict.keys())"
      ],
      "id": "1f81d0a2",
      "execution_count": null,
      "outputs": []
    },
    {
      "cell_type": "markdown",
      "metadata": {},
      "source": [
        "Create a data frame with the origin-destination pairs; the variables are the node ids:"
      ],
      "id": "17c36c51"
    },
    {
      "cell_type": "code",
      "metadata": {},
      "source": [
        "od = expand_grid(\n",
        "    {'o_path': origins[\"id\"],\n",
        "     'd_path': destinations[\"id\"]})"
      ],
      "id": "c05cca71",
      "execution_count": null,
      "outputs": []
    },
    {
      "cell_type": "markdown",
      "metadata": {},
      "source": [
        "## Detailed paths\n",
        "\n",
        "The results of the shortest paths is a list of lists. The length of the list is the number of origin-destination pairs that where analyzed:"
      ],
      "id": "83442ae3"
    },
    {
      "cell_type": "code",
      "metadata": {},
      "source": [
        "len(shortest_paths)"
      ],
      "id": "f4863c50",
      "execution_count": null,
      "outputs": []
    },
    {
      "cell_type": "markdown",
      "metadata": {},
      "source": [
        "For example, consider the following origin and destination pair; the values are the ids of the origin and destination nodes:"
      ],
      "id": "2698e664"
    },
    {
      "cell_type": "code",
      "metadata": {},
      "source": [
        "od.o_path[1]\n",
        "od.d_path[1]"
      ],
      "id": "eec27764",
      "execution_count": null,
      "outputs": []
    },
    {
      "cell_type": "markdown",
      "metadata": {},
      "source": [
        "This is the list of links that correspond to the shortest path for this origin-destination pair:"
      ],
      "id": "362c23e6"
    },
    {
      "cell_type": "code",
      "metadata": {},
      "source": [
        "shortest_paths[1]"
      ],
      "id": "ad2019b6",
      "execution_count": null,
      "outputs": []
    },
    {
      "cell_type": "markdown",
      "metadata": {},
      "source": [
        "The elements of the list are the identifiers of the links that are part of the shortest path. \n",
        "\n",
        "Each path is identified by its origin and destination. The path may consist of several segments\n",
        "\n",
        "| Path      | segment | origin | destination |\n",
        "|-----------|:-------:|:------:|:-----------:|\n",
        "| \"01\"      | 1       |    0   |   1         |\n",
        "| \"02\"      | 1       |    0   |   1         |\n",
        "| \"02\"      | 2       |    1   |   2         |\n",
        "| ...       | ...     |   ...  |  ...        |\n",
        "| \"06\"      | 1       |    0   |   1         |\n",
        "| \"06\"      | 2       |    1   |  11         |\n",
        "| \"06\"      | 3       |   11   |  10         |\n",
        "| \"06\"      | 4       |   10   |   6         |\n",
        "\n",
        ": Typical table with shortest paths {#tbl-shortest-paths}\n"
      ],
      "id": "590c5fbb"
    },
    {
      "cell_type": "code",
      "metadata": {},
      "source": [
        "# Choose od pair:\n",
        "i = 15\n",
        "shortest_path_ = graph.es.select(shortest_paths[i][0])"
      ],
      "id": "8103c35d",
      "execution_count": null,
      "outputs": []
    },
    {
      "cell_type": "markdown",
      "metadata": {},
      "source": [
        "Extract chosen shortest path:"
      ],
      "id": "6d88e3fa"
    },
    {
      "cell_type": "code",
      "metadata": {},
      "source": [
        "shortest_path_ = pd.DataFrame({'o_path' : od.o_path[i], 'd_path' : od.d_path[i], \"id\" : id, 'u' : shortest_path_[\"u\"], 'v' : shortest_path_[\"v\"], \"geometry\" : shortest_path_[\"geometry\"]})"
      ],
      "id": "960d89f0",
      "execution_count": null,
      "outputs": []
    },
    {
      "cell_type": "markdown",
      "metadata": {},
      "source": [
        "Convert to GeoDataFrame:"
      ],
      "id": "dc5222ca"
    },
    {
      "cell_type": "code",
      "metadata": {},
      "source": [
        "shortest_path_ = gpd.GeoDataFrame(shortest_path_)"
      ],
      "id": "2f3c5c9d",
      "execution_count": null,
      "outputs": []
    },
    {
      "cell_type": "markdown",
      "metadata": {},
      "source": [
        "Plot:"
      ],
      "id": "6632ca50"
    },
    {
      "cell_type": "code",
      "metadata": {},
      "source": [
        "fig, ax = plt.subplots()\n",
        "ax.set_aspect('equal')\n",
        "# Edges\n",
        "edges.plot(ax=ax, color = \"lightgray\")\n",
        "# Shortest path\n",
        "shortest_path_.plot(ax=ax, color = \"Red\")\n",
        "# Show plot\n",
        "plt.show()"
      ],
      "id": "518fde59",
      "execution_count": null,
      "outputs": []
    }
  ],
  "metadata": {
    "kernelspec": {
      "name": "python3",
      "language": "python",
      "display_name": "Python 3 (ipykernel)"
    }
  },
  "nbformat": 4,
  "nbformat_minor": 5
}